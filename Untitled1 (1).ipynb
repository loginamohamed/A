{
  "nbformat": 4,
  "nbformat_minor": 0,
  "metadata": {
    "colab": {
      "provenance": [],
      "collapsed_sections": []
    },
    "kernelspec": {
      "name": "python3",
      "display_name": "Python 3"
    },
    "language_info": {
      "name": "python"
    }
  },
  "cells": [
    {
      "cell_type": "code",
      "execution_count": 1,
      "metadata": {
        "colab": {
          "base_uri": "https://localhost:8080/"
        },
        "id": "lqDutNZe54KB",
        "outputId": "3a8e08b7-6392-4e03-898d-80fb8eea4072"
      },
      "outputs": [
        {
          "output_type": "stream",
          "name": "stdout",
          "text": [
            "hello word\n"
          ]
        }
      ],
      "source": [
        "print(\"hello word\")"
      ]
    },
    {
      "cell_type": "markdown",
      "source": [
        "this function use to print what you want on screen"
      ],
      "metadata": {
        "id": "qgf0oS6z6LZY"
      }
    }
  ]
}